{
 "cells": [
  {
   "cell_type": "code",
   "execution_count": 6,
   "metadata": {},
   "outputs": [],
   "source": [
    "import numpy as np\n",
    "import matplotlib.pyplot as plt\n",
    "from sklearn.utils import shuffle\n",
    "from datetime import datetime"
   ]
  },
  {
   "cell_type": "code",
   "execution_count": 7,
   "metadata": {},
   "outputs": [],
   "source": [
    "from util import get_transformed_data, forward, error_rate, cost, gradW, gradb, y2indicator"
   ]
  },
  {
   "cell_type": "code",
   "execution_count": 8,
   "metadata": {},
   "outputs": [
    {
     "name": "stdout",
     "output_type": "stream",
     "text": [
      "Reading in and transforming data...\n"
     ]
    },
    {
     "data": {
      "image/png": "[encoded data removed]",
      "text/plain": [
       "<Figure size 432x288 with 1 Axes>"
      ]
     },
     "metadata": {
      "needs_background": "light"
     },
     "output_type": "display_data"
    }
   ],
   "source": [
    "epoch = 50\n",
    "lr = 0.0001\n",
    "reg = 0.01\n",
    "\n",
    "Xtrain, Xtest, Ytrain, Ytest = get_transformed_data()\n",
    "\n",
    "N, D = Xtrain.shape\n",
    "Ytrain_ind = y2indicator(Ytrain)\n",
    "Ytest_ind = y2indicator(Ytest)"
   ]
  },
  {
   "cell_type": "markdown",
   "metadata": {},
   "source": [
    "## Full Gradient Descent"
   ]
  },
  {
   "cell_type": "code",
   "execution_count": 9,
   "metadata": {},
   "outputs": [],
   "source": [
    "def full_gradient_descent():\n",
    "    W = np.random.randn(D, 10) / 28 # Square root of no. of dimentionality. i.e. 28 * 28 = 784\n",
    "    b = np.zeros(10)\n",
    "    loss_batch = []\n",
    "    t0 = datetime.now()\n",
    "\n",
    "    for i in range(epoch):\n",
    "        p_y = forward(Xtrain, W, b)\n",
    "\n",
    "        W += lr * (gradW(Ytrain_ind, p_y, Xtrain) - reg * W)\n",
    "        b += lr * (gradb(Ytrain_ind, p_y) - reg * b)\n",
    "\n",
    "        p_y_test = forward(Xtest, W, b)\n",
    "        temp_loss = cost(p_y_test, Ytest_ind)\n",
    "        loss_batch.append(temp_loss)\n",
    "\n",
    "        if i % 1 == 0:\n",
    "            err = error_rate(p_y_test, Ytest)\n",
    "            if i % 10 == 0:\n",
    "                print(\"Cost at iteration %d: %.6f\" % (i, temp_loss))\n",
    "                print(\"Error rate:\", err)\n",
    "\n",
    "    p_y = forward(Xtest, W, b)\n",
    "    print(\"Final error rate:\", error_rate(p_y, Ytest))\n",
    "    print(\"Elapsted time for full GD:\", datetime.now() - t0)\n",
    "    print(\"=======================================================\")\n",
    "    return loss_batch"
   ]
  },
  {
   "cell_type": "markdown",
   "metadata": {},
   "source": [
    "## Stochastic Gradient Descent"
   ]
  },
  {
   "cell_type": "code",
   "execution_count": 11,
   "metadata": {},
   "outputs": [],
   "source": [
    "def stochastic_gradient_descent():\n",
    "    W = np.random.randn(D, 10) / 28\n",
    "    b = np.zeros(10)\n",
    "    loss_stochastic = []\n",
    "    t0 = datetime.now()\n",
    "\n",
    "    for i in range(epoch): # takes very long since we're computing cost for 41k samples\n",
    "        tmpX, tmpY = shuffle(Xtrain, Ytrain_ind)\n",
    "\n",
    "        #for n in range(min(N, 500)): # shortcut so it won't take so long...\n",
    "        for n in range(N):\n",
    "            x = tmpX[n,:].reshape(1,D)\n",
    "            y = tmpY[n,:].reshape(1,10)\n",
    "            p_y = forward(x, W, b)\n",
    "\n",
    "            W += lr * (gradW(y, p_y, x) - reg * W)\n",
    "            b += lr * (gradb(y, p_y) - reg  * b)\n",
    "\n",
    "            p_y_test = forward(Xtest, W, b)\n",
    "            loss = cost(p_y_test, Ytest_ind)\n",
    "            loss_stochastic.append(loss)\n",
    "\n",
    "        if i % 1 == 0:\n",
    "            err = error_rate(p_y_test, Ytest)\n",
    "            if i % 10 == 0:\n",
    "                print(\"Cost at iteration %d: %.6f\" % (i, loss))\n",
    "                print(\"Error rate:\", err)\n",
    "\n",
    "    p_y = forward(Xtest, W, b)\n",
    "    print(\"Final error rate:\", error_rate(p_y, Ytest))\n",
    "    print(\"Elapsted time for SGD:\", datetime.now() - t0)\n",
    "    print(\"=======================================================\")\n",
    "    return loss_stochastic"
   ]
  },
  {
   "cell_type": "markdown",
   "metadata": {},
   "source": [
    "## Mini-batch Gradient Descent"
   ]
  },
  {
   "cell_type": "code",
   "execution_count": 12,
   "metadata": {},
   "outputs": [],
   "source": [
    "def mini_batch_gradient_descent():\n",
    "    W = np.random.randn(D, 10) / 28\n",
    "    b = np.zeros(10)\n",
    "    loss_mini_batch = []\n",
    "    batch_sz = 500\n",
    "    n_batches = N // batch_sz\n",
    "\n",
    "    t0 = datetime.now()\n",
    "\n",
    "    for i in range(epoch):\n",
    "        tmpX, tmpY = shuffle(Xtrain, Ytrain_ind)\n",
    "\n",
    "        for j in range(n_batches):\n",
    "            x = tmpX[j*batch_sz:(j*batch_sz + batch_sz),:]\n",
    "            y = tmpY[j*batch_sz:(j*batch_sz + batch_sz),:]\n",
    "            p_y = forward(x, W, b)\n",
    "\n",
    "            W += lr*(gradW(y, p_y, x) - reg*W)\n",
    "            b += lr*(gradb(y, p_y) - reg*b)\n",
    "\n",
    "            p_y_test = forward(Xtest, W, b)\n",
    "            temp_loss = cost(p_y_test, Ytest_ind)\n",
    "            loss_mini_batch.append(temp_loss)\n",
    "\n",
    "        if i % 1 == 0:\n",
    "            err = error_rate(p_y_test, Ytest)\n",
    "            if i % 10 == 0:\n",
    "                print(\"Cost at iteration %d: %.6f\" % (i, temp_loss))\n",
    "                print(\"Error rate:\", err)\n",
    "\n",
    "    p_y = forward(Xtest, W, b)\n",
    "    print(\"Final error rate:\", error_rate(p_y, Ytest))\n",
    "    print(\"Elapsted time for mini-batch GD:\", datetime.now() - t0)\n",
    "    print(\"=======================================================\")\n",
    "    return loss_mini_batch"
   ]
  },
  {
   "cell_type": "markdown",
   "metadata": {},
   "source": [
    "## Gradient Descent algorithms comparison"
   ]
  },
  {
   "cell_type": "code",
   "execution_count": 14,
   "metadata": {},
   "outputs": [],
   "source": [
    "def GD_comparison():\n",
    "    loss_batch = full_gradient_descent()\n",
    "    loss_stochastic = stochastic_gradient_descent()\n",
    "    loss_mini_batch = mini_batch_gradient_descent()\n",
    "    \n",
    "    x1 = np.linspace(0, 1, len(loss_batch))\n",
    "    plt.plot(x1, loss_batch, label=\"full(batch) GD\")\n",
    "    x2 = np.linspace(0, 1, len(loss_stochastic))\n",
    "    plt.plot(x2, loss_stochastic, label=\"stochastic GD\")\n",
    "    x3 = np.linspace(0, 1, len(loss_mini_batch))\n",
    "    plt.plot(x3, loss_mini_batch, label=\"mini-batch GD\")\n",
    "    plt.legend()\n",
    "    plt.show()"
   ]
  },
  {
   "cell_type": "code",
   "execution_count": 15,
   "metadata": {},
   "outputs": [
    {
     "name": "stdout",
     "output_type": "stream",
     "text": [
      "Cost at iteration 0: 900.249657\n",
      "Error rate: 0.181\n",
      "Cost at iteration 10: 391.727946\n",
      "Error rate: 0.108\n",
      "Cost at iteration 20: 350.390088\n",
      "Error rate: 0.1\n",
      "Cost at iteration 30: 334.176800\n",
      "Error rate: 0.096\n",
      "Cost at iteration 40: 325.901246\n",
      "Error rate: 0.095\n",
      "Final error rate: 0.094\n",
      "Elapsted time for full GD: 0:00:04.797489\n",
      "=======================================================\n",
      "Cost at iteration 0: 1134.533303\n",
      "Error rate: 0.219\n",
      "Cost at iteration 10: 456.274981\n",
      "Error rate: 0.114\n",
      "Cost at iteration 20: 427.582849\n",
      "Error rate: 0.106\n",
      "Cost at iteration 30: 421.078571\n",
      "Error rate: 0.105\n",
      "Cost at iteration 40: 418.905586\n",
      "Error rate: 0.104\n",
      "Final error rate: 0.105\n",
      "Elapsted time for SGD: 0:13:25.999168\n",
      "=======================================================\n",
      "Cost at iteration 0: 1099.123362\n",
      "Error rate: 0.198\n",
      "Cost at iteration 10: 399.824635\n",
      "Error rate: 0.106\n",
      "Cost at iteration 20: 353.029791\n",
      "Error rate: 0.101\n",
      "Cost at iteration 30: 335.367903\n",
      "Error rate: 0.098\n",
      "Cost at iteration 40: 326.521948\n",
      "Error rate: 0.093\n",
      "Final error rate: 0.093\n",
      "Elapsted time for mini-batch GD: 0:00:06.476387\n",
      "=======================================================\n"
     ]
    },
    {
     "name": "stderr",
     "output_type": "stream",
     "text": [
      "/home/nitin/anaconda3/lib/python3.6/site-packages/IPython/core/pylabtools.py:125: UserWarning: Creating legend with loc=\"best\" can be slow with large amounts of data.\n",
      "  fig.canvas.print_figure(bytes_io, **kw)\n"
     ]
    },
    {
     "data": {
      "image/png": "[encoded data removed]",
      "text/plain": [
       "<Figure size 432x288 with 1 Axes>"
      ]
     },
     "metadata": {
      "needs_background": "light"
     },
     "output_type": "display_data"
    }
   ],
   "source": [
    "if __name__ == '__main__':\n",
    "    GD_comparison()"
   ]
  }
 ],
 "metadata": {
  "kernelspec": {
   "display_name": "Python 3",
   "language": "python",
   "name": "python3"
  },
  "language_info": {
   "codemirror_mode": {
    "name": "ipython",
    "version": 3
   },
   "file_extension": ".py",
   "mimetype": "text/x-python",
   "name": "python",
   "nbconvert_exporter": "python",
   "pygments_lexer": "ipython3",
   "version": "3.6.8"
  }
 },
 "nbformat": 4,
 "nbformat_minor": 2
}
